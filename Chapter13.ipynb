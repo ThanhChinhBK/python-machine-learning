{
 "cells": [
  {
   "cell_type": "code",
   "execution_count": 1,
   "metadata": {
    "collapsed": false
   },
   "outputs": [
    {
     "data": {
      "text/plain": [
       "array(5.0)"
      ]
     },
     "execution_count": 1,
     "metadata": {},
     "output_type": "execute_result"
    }
   ],
   "source": [
    "import theano\n",
    "import theano.tensor as T\n",
    "\n",
    "x1 = T.scalar()\n",
    "w1 = T.scalar()\n",
    "w0 = T.scalar()\n",
    "z1 = x1 * w1 + w0\n",
    "\n",
    "net_input = theano.function(inputs=[w1, w0, x1], outputs=z1)\n",
    "\n",
    "net_input(1,2,3)"
   ]
  },
  {
   "cell_type": "code",
   "execution_count": 2,
   "metadata": {
    "collapsed": false
   },
   "outputs": [
    {
     "data": {
      "text/plain": [
       "'float64'"
      ]
     },
     "execution_count": 2,
     "metadata": {},
     "output_type": "execute_result"
    }
   ],
   "source": [
    "theano.config.floatX"
   ]
  },
  {
   "cell_type": "markdown",
   "metadata": {},
   "source": [
    "dung THEANO_FLAGS de config theano truoc moi lan chay"
   ]
  },
  {
   "cell_type": "markdown",
   "metadata": {},
   "source": [
    "# Working with array structures"
   ]
  },
  {
   "cell_type": "code",
   "execution_count": 3,
   "metadata": {
    "collapsed": false
   },
   "outputs": [
    {
     "name": "stdout",
     "output_type": "stream",
     "text": [
      "[  5.   7.   9.  11.]\n",
      "[  5.   7.   9.  11.]\n"
     ]
    }
   ],
   "source": [
    "x = T.dmatrix()\n",
    "x_sum = T.sum(x, axis=0)\n",
    "calc = theano.function(inputs=[x], outputs=x_sum)\n",
    "a = [[1,2,3,4],[4,5,6,7]]\n",
    "import numpy as np\n",
    "b = np.array(a, dtype=np.float64)\n",
    "print(calc(a))\n",
    "print(calc(b))"
   ]
  },
  {
   "cell_type": "code",
   "execution_count": 4,
   "metadata": {
    "collapsed": false
   },
   "outputs": [
    {
     "name": "stdout",
     "output_type": "stream",
     "text": [
      "[array([[ 0.]])]\n",
      "[array([[ 6.]])]\n",
      "[array([[ 12.]])]\n",
      "[array([[ 18.]])]\n",
      "[array([[ 24.]])]\n"
     ]
    }
   ],
   "source": [
    "x = T.dmatrix('x')\n",
    "w = theano.shared(np.asarray([[0.0, 0.0, 0.0]]))\n",
    "z = x.dot(w.T)\n",
    "update = [[w, w + 1.0]]\n",
    "run = theano.function(inputs=[x],\n",
    "                     updates=update,\n",
    "                     outputs = [z])\n",
    "raw_input = np.array([[1.0, 2.0, 3.0]])\n",
    "for _ in range(5):\n",
    "    print(run(raw_input))"
   ]
  },
  {
   "cell_type": "code",
   "execution_count": 5,
   "metadata": {
    "collapsed": false
   },
   "outputs": [
    {
     "name": "stdout",
     "output_type": "stream",
     "text": [
      "[[ 0.]]\n",
      "[[ 6.]]\n",
      "[[ 12.]]\n",
      "[[ 18.]]\n",
      "[[ 24.]]\n"
     ]
    }
   ],
   "source": [
    "x = T.dmatrix('x')\n",
    "w = theano.shared(np.asarray([[0.0, 0.0, 0.0]]))\n",
    "z = x.dot(w.T)\n",
    "update = [[w, w + 1.0]]\n",
    "raw_input = np.array([[1.0, 2.0, 3.0]])\n",
    "run = theano.function(inputs=[],\n",
    "                     updates=update,\n",
    "                      givens = {x:raw_input},\n",
    "                     outputs = z)\n",
    "for _ in range(5):\n",
    "    print(run())"
   ]
  },
  {
   "cell_type": "markdown",
   "metadata": {},
   "source": [
    "# Wrapping things up – a linear regression example"
   ]
  },
  {
   "cell_type": "code",
   "execution_count": 6,
   "metadata": {
    "collapsed": false
   },
   "outputs": [],
   "source": [
    "X_train = np.asarray([[0.0], [1.0],\n",
    "                      [2.0], [3.0],\n",
    "                      [4.0], [5.0],\n",
    "                      [6.0], [7.0],\n",
    "                      [8.0], [9.0]])\n",
    "y_train = np.asarray([1.0, 1.3,\n",
    "                      3.1, 2.0,\n",
    "                      5.0, 6.3,\n",
    "                      6.6, 7.4,\n",
    "                      8.0, 9.0])"
   ]
  },
  {
   "cell_type": "code",
   "execution_count": 21,
   "metadata": {
    "collapsed": false
   },
   "outputs": [],
   "source": [
    "def train_linreg(X_train, y_train, eta, epochs):\n",
    "    costs = []\n",
    "    eta0 = T.dscalar('eta0')\n",
    "    y = T.dvector(name='y')\n",
    "    X = T.dmatrix(name='X')\n",
    "    W = theano.shared(np.zeros(\n",
    "                    shape=(X_train.shape[1] + 1)),\n",
    "                    name=\"W\" )\n",
    "    net_input = T.dot(X, W[1:]) + W[0]\n",
    "    errors = y - net_input\n",
    "    cost = T.sum(T.pow(errors, 2))\n",
    "    gradient = T.grad(cost, wrt=W)\n",
    "    update = [(W, W- eta0 * gradient)]\n",
    "    \n",
    "    train = theano.function(inputs=[eta0],\n",
    "                           outputs=cost,\n",
    "                           updates = update,\n",
    "                           givens ={X: X_train,\n",
    "                                   y:y_train})\n",
    "    for _ in range(epochs):\n",
    "        costs.append(train(eta))\n",
    "    return costs, W"
   ]
  },
  {
   "cell_type": "code",
   "execution_count": 22,
   "metadata": {
    "collapsed": false
   },
   "outputs": [
    {
     "data": {
      "image/png": "[encoded data removed]",
      "text/plain": [
       "<matplotlib.figure.Figure at 0x7ff1d28d8320>"
      ]
     },
     "metadata": {},
     "output_type": "display_data"
    }
   ],
   "source": [
    "import matplotlib.pyplot as plt\n",
    "%matplotlib inline\n",
    "costs, w = train_linreg(X_train, y_train, 0.001, 10)\n",
    "plt.plot(range(1, len(costs)+1), costs)\n",
    "plt.tight_layout()\n",
    "plt.xlabel(\"Epoch\")\n",
    "plt.ylabel(\"Cost\")\n",
    "plt.show()"
   ]
  },
  {
   "cell_type": "code",
   "execution_count": 23,
   "metadata": {
    "collapsed": false
   },
   "outputs": [],
   "source": [
    "def predict_linreg(X, w):\n",
    "    Xt = T.matrix(name='X')\n",
    "    net_input = T.dot(Xt, w[1:]) + w[0]\n",
    "    predict = theano.function(inputs=[Xt],\n",
    "    givens={w: w},\n",
    "    outputs=net_input)\n",
    "    return predict(X)"
   ]
  },
  {
   "cell_type": "code",
   "execution_count": 25,
   "metadata": {
    "collapsed": false
   },
   "outputs": [
    {
     "data": {
      "image/png": "[encoded data removed]",
      "text/plain": [
       "<matplotlib.figure.Figure at 0x7ff1d285bb38>"
      ]
     },
     "metadata": {},
     "output_type": "display_data"
    }
   ],
   "source": [
    "plt.scatter(X_train, y_train, marker='x', s=5)\n",
    "plt.plot(range(X_train.shape[0]), \n",
    "         predict_linreg(X_train, w),\n",
    "         color=\"gray\", marker=\"o\",\n",
    "         markersize=4, linewidth=3)\n",
    "plt.xlabel('x')\n",
    "plt.ylabel('y')\n",
    "plt.show()"
   ]
  },
  {
   "cell_type": "markdown",
   "metadata": {},
   "source": [
    "# Choosing activation functions for feedforward neural networks\n",
    "## Logistic function recap\n",
    "$ \\sigma(z) = \\frac{1}{1+e^{-z}} $"
   ]
  },
  {
   "cell_type": "code",
   "execution_count": 26,
   "metadata": {
    "collapsed": false
   },
   "outputs": [
    {
     "name": "stdout",
     "output_type": "stream",
     "text": [
      "[[ 0.87653295]\n",
      " [ 0.57688526]\n",
      " [ 0.90114393]]\n"
     ]
    }
   ],
   "source": [
    "def logistic(z):\n",
    "    return 1.0 / (1.0 + np.exp(-z))\n",
    "W = np.array([[1.1, 1.2, 1.3, 0.5],\n",
    "              [0.1, 0.2, 0.4, 0.1],\n",
    "              [0.2, 0.5, 2.1, 1.9]])\n",
    "A = np.array([[1.0],\n",
    "             [0.1],\n",
    "             [0.3],\n",
    "             [0.7]])\n",
    "Z = W.dot(A)\n",
    "y_probas = logistic(Z)\n",
    "print(y_probas)"
   ]
  },
  {
   "cell_type": "markdown",
   "metadata": {},
   "source": [
    "## Estimating probabilities in multi-class classification via the softmax \n",
    "$ P(y=i|z) = \\phi_{softmax}(z) = \\frac{e_i^z}{\\sum_{m=1}^me_m^z} $"
   ]
  },
  {
   "cell_type": "code",
   "execution_count": 30,
   "metadata": {
    "collapsed": false
   },
   "outputs": [
    {
     "data": {
      "text/plain": [
       "array([[ 0.40386493],\n",
       "       [ 0.07756222],\n",
       "       [ 0.51857284]])"
      ]
     },
     "execution_count": 30,
     "metadata": {},
     "output_type": "execute_result"
    }
   ],
   "source": [
    "def softmax(z):\n",
    "    return np.exp(z) / np.sum(np.exp(z))\n",
    "softmax(Z)"
   ]
  },
  {
   "cell_type": "markdown",
   "metadata": {},
   "source": [
    "## Broadening the output spectrum by using a hyperbolic tangent (tanh)\n",
    "$ \\phi_{tanh}(z) = 2\\times\\phi_{logistic}(2\\times z)-1=\\frac{e^z - e^{-z}}{e^z + e^{-z}} $"
   ]
  },
  {
   "cell_type": "code",
   "execution_count": 31,
   "metadata": {
    "collapsed": false
   },
   "outputs": [
    {
     "data": {
      "image/png": "[encoded data removed]",
      "text/plain": [
       "<matplotlib.figure.Figure at 0x7ff1d29b8630>"
      ]
     },
     "metadata": {},
     "output_type": "display_data"
    }
   ],
   "source": [
    "def tanh(z):\n",
    "    e_p = np.exp(z)\n",
    "    e_m = np.exp(-z)\n",
    "    return (e_p - e_m) / (e_p + e_m)\n",
    "z = np.arange(-5, 5, 0.005)\n",
    "log_act = logistic(z)\n",
    "tanh_act = tanh(z)\n",
    "plt.ylim([-1.5, 1.5])\n",
    "plt.xlabel('net input $z$')\n",
    "plt.ylabel('activation $\\phi(z)$')\n",
    "plt.axhline(1, color='black', linestyle='--')\n",
    "plt.axhline(0.5, color='black', linestyle='--')\n",
    "plt.axhline(0, color='black', linestyle='--')\n",
    "plt.axhline(-1, color='black', linestyle='--')\n",
    "plt.plot(z, tanh_act,\n",
    "        linewidth=2,\n",
    "        color=\"lightgreen\",\n",
    "        label=\"tanh\")\n",
    "plt.plot(z, log_act,\n",
    "        linewidth=2,\n",
    "        color=\"black\",\n",
    "        label=\"logistic\")\n",
    "plt.legend(loc=\"lower right\")\n",
    "plt.tight_layout()"
   ]
  },
  {
   "cell_type": "markdown",
   "metadata": {},
   "source": [
    "# Training neural networks efficiently using Keras"
   ]
  },
  {
   "cell_type": "code",
   "execution_count": 39,
   "metadata": {
    "collapsed": false
   },
   "outputs": [],
   "source": [
    "import os\n",
    "import struct\n",
    "import numpy as np\n",
    "\n",
    "def load_mnist(path, kind=\"train\"):\n",
    "    labels_path = os.path.join(path,\n",
    "                              \"%s-labels.idx-ubyte\" %kind)\n",
    "    images_path = os.path.join(path,\n",
    "                              \"%s-images.idx-ubyte\" %kind)\n",
    "    with open(labels_path, \"rb\") as lbpath:\n",
    "        magic, n = struct.unpack('>II',\n",
    "                                lbpath.read(8))\n",
    "        labels = np.fromfile(lbpath, \n",
    "                             dtype=np.uint8)\n",
    "\n",
    "    with open(images_path, 'rb') as imgpath:\n",
    "        magic, num, rows, cols = struct.unpack(\">IIII\", \n",
    "                                               imgpath.read(16))\n",
    "        images = np.fromfile(imgpath, \n",
    "                             dtype=np.uint8).reshape(len(labels), 784)\n",
    " \n",
    "    return images, labels"
   ]
  },
  {
   "cell_type": "code",
   "execution_count": 40,
   "metadata": {
    "collapsed": false
   },
   "outputs": [],
   "source": [
    "X_train, y_train = load_mnist('data', kind=\"train\")"
   ]
  },
  {
   "cell_type": "code",
   "execution_count": 42,
   "metadata": {
    "collapsed": false
   },
   "outputs": [],
   "source": [
    " X_test, y_test = load_mnist('data', kind='t10k')"
   ]
  },
  {
   "cell_type": "code",
   "execution_count": 43,
   "metadata": {
    "collapsed": true
   },
   "outputs": [],
   "source": [
    "import theano \n",
    "\n",
    "theano.config.floatX = 'float32'\n",
    "X_train = X_train.astype(theano.config.floatX)\n",
    "X_test = X_test.astype(theano.config.floatX)"
   ]
  },
  {
   "cell_type": "code",
   "execution_count": 44,
   "metadata": {
    "collapsed": false
   },
   "outputs": [
    {
     "name": "stdout",
     "output_type": "stream",
     "text": [
      "First 3 labels:  [5 0 4]\n",
      "\n",
      "First 3 labels (one-hot):\n",
      " [[ 0.  0.  0.  0.  0.  1.  0.  0.  0.  0.]\n",
      " [ 1.  0.  0.  0.  0.  0.  0.  0.  0.  0.]\n",
      " [ 0.  0.  0.  0.  1.  0.  0.  0.  0.  0.]]\n"
     ]
    }
   ],
   "source": [
    "from keras.utils import np_utils\n",
    "\n",
    "print('First 3 labels: ', y_train[:3])\n",
    "\n",
    "y_train_ohe = np_utils.to_categorical(y_train) \n",
    "print('\\nFirst 3 labels (one-hot):\\n', y_train_ohe[:3])"
   ]
  },
  {
   "cell_type": "code",
   "execution_count": 47,
   "metadata": {
    "collapsed": false
   },
   "outputs": [
    {
     "name": "stderr",
     "output_type": "stream",
     "text": [
      "/home/jeovach/.local/lib/python3.5/site-packages/ipykernel/__main__.py:11: UserWarning: Update your `Dense` call to the Keras 2 API: `Dense(kernel_initializer=\"uniform\", input_dim=784, activation=\"tanh\", units=50)`\n",
      "/home/jeovach/.local/lib/python3.5/site-packages/ipykernel/__main__.py:16: UserWarning: Update your `Dense` call to the Keras 2 API: `Dense(kernel_initializer=\"uniform\", input_dim=50, activation=\"tanh\", units=50)`\n",
      "/home/jeovach/.local/lib/python3.5/site-packages/ipykernel/__main__.py:21: UserWarning: Update your `Dense` call to the Keras 2 API: `Dense(kernel_initializer=\"uniform\", input_dim=50, activation=\"softmax\", units=10)`\n",
      "/home/jeovach/anaconda3/lib/python3.5/site-packages/keras/models.py:826: UserWarning: The `nb_epoch` argument in `fit` has been renamed `epochs`.\n",
      "  warnings.warn('The `nb_epoch` argument in `fit` '\n"
     ]
    },
    {
     "name": "stdout",
     "output_type": "stream",
     "text": [
      "Train on 54000 samples, validate on 6000 samples\n",
      "Epoch 1/50\n",
      "54000/54000 [==============================] - 2s - loss: 2.2207 - val_loss: 2.0860\n",
      "Epoch 2/50\n",
      "54000/54000 [==============================] - 1s - loss: 1.8295 - val_loss: 1.5054\n",
      "Epoch 3/50\n",
      "54000/54000 [==============================] - 1s - loss: 1.2996 - val_loss: 1.0746\n",
      "Epoch 4/50\n",
      "54000/54000 [==============================] - 1s - loss: 0.9792 - val_loss: 0.8197\n",
      "Epoch 5/50\n",
      "54000/54000 [==============================] - 1s - loss: 0.7766 - val_loss: 0.6529\n",
      "Epoch 6/50\n",
      "54000/54000 [==============================] - 1s - loss: 0.6423 - val_loss: 0.5392\n",
      "Epoch 7/50\n",
      "54000/54000 [==============================] - 1s - loss: 0.5546 - val_loss: 0.4714\n",
      "Epoch 8/50\n",
      "54000/54000 [==============================] - 1s - loss: 0.4937 - val_loss: 0.4203\n",
      "Epoch 9/50\n",
      "54000/54000 [==============================] - 1s - loss: 0.4481 - val_loss: 0.3789\n",
      "Epoch 10/50\n",
      "54000/54000 [==============================] - 1s - loss: 0.4160 - val_loss: 0.3607\n",
      "Epoch 11/50\n",
      "54000/54000 [==============================] - 1s - loss: 0.3915 - val_loss: 0.3434\n",
      "Epoch 12/50\n",
      "54000/54000 [==============================] - 1s - loss: 0.3805 - val_loss: 0.3312\n",
      "Epoch 13/50\n",
      "54000/54000 [==============================] - 1s - loss: 0.3608 - val_loss: 0.3036\n",
      "Epoch 14/50\n",
      "54000/54000 [==============================] - 1s - loss: 0.3401 - val_loss: 0.2937\n",
      "Epoch 15/50\n",
      "54000/54000 [==============================] - 1s - loss: 0.3313 - val_loss: 0.2821\n",
      "Epoch 16/50\n",
      "54000/54000 [==============================] - 1s - loss: 0.3181 - val_loss: 0.2701\n",
      "Epoch 17/50\n",
      "54000/54000 [==============================] - 1s - loss: 0.3070 - val_loss: 0.2703\n",
      "Epoch 18/50\n",
      "54000/54000 [==============================] - 1s - loss: 0.3021 - val_loss: 0.2567\n",
      "Epoch 19/50\n",
      "54000/54000 [==============================] - 1s - loss: 0.2907 - val_loss: 0.2475\n",
      "Epoch 20/50\n",
      "54000/54000 [==============================] - 1s - loss: 0.2898 - val_loss: 0.2565\n",
      "Epoch 21/50\n",
      "54000/54000 [==============================] - 1s - loss: 0.2838 - val_loss: 0.2459\n",
      "Epoch 22/50\n",
      "54000/54000 [==============================] - 1s - loss: 0.2743 - val_loss: 0.2376\n",
      "Epoch 23/50\n",
      "54000/54000 [==============================] - 1s - loss: 0.2680 - val_loss: 0.2288\n",
      "Epoch 24/50\n",
      "54000/54000 [==============================] - 1s - loss: 0.2614 - val_loss: 0.2270\n",
      "Epoch 25/50\n",
      "54000/54000 [==============================] - 1s - loss: 0.2532 - val_loss: 0.2182\n",
      "Epoch 26/50\n",
      "54000/54000 [==============================] - 1s - loss: 0.2543 - val_loss: 0.2184\n",
      "Epoch 27/50\n",
      "54000/54000 [==============================] - 1s - loss: 0.2548 - val_loss: 0.2174\n",
      "Epoch 28/50\n",
      "54000/54000 [==============================] - 1s - loss: 0.2521 - val_loss: 0.2242\n",
      "Epoch 29/50\n",
      "54000/54000 [==============================] - 1s - loss: 0.2463 - val_loss: 0.2107\n",
      "Epoch 30/50\n",
      "54000/54000 [==============================] - 1s - loss: 0.2442 - val_loss: 0.2103\n",
      "Epoch 31/50\n",
      "54000/54000 [==============================] - 1s - loss: 0.2396 - val_loss: 0.2089\n",
      "Epoch 32/50\n",
      "54000/54000 [==============================] - 1s - loss: 0.2360 - val_loss: 0.2077\n",
      "Epoch 33/50\n",
      "54000/54000 [==============================] - 1s - loss: 0.2404 - val_loss: 0.2119\n",
      "Epoch 34/50\n",
      "54000/54000 [==============================] - 1s - loss: 0.2354 - val_loss: 0.2001\n",
      "Epoch 35/50\n",
      "54000/54000 [==============================] - 1s - loss: 0.2249 - val_loss: 0.1906\n",
      "Epoch 36/50\n",
      "54000/54000 [==============================] - 1s - loss: 0.2187 - val_loss: 0.2028\n",
      "Epoch 37/50\n",
      "54000/54000 [==============================] - 1s - loss: 0.2193 - val_loss: 0.1901\n",
      "Epoch 38/50\n",
      "54000/54000 [==============================] - 1s - loss: 0.2137 - val_loss: 0.1910\n",
      "Epoch 39/50\n",
      "54000/54000 [==============================] - 1s - loss: 0.2108 - val_loss: 0.1922\n",
      "Epoch 40/50\n",
      "54000/54000 [==============================] - 1s - loss: 0.2147 - val_loss: 0.1825\n",
      "Epoch 41/50\n",
      "54000/54000 [==============================] - 1s - loss: 0.2058 - val_loss: 0.1828\n",
      "Epoch 42/50\n",
      "54000/54000 [==============================] - 1s - loss: 0.2150 - val_loss: 0.1844\n",
      "Epoch 43/50\n",
      "54000/54000 [==============================] - 1s - loss: 0.2064 - val_loss: 0.1885\n",
      "Epoch 44/50\n",
      "54000/54000 [==============================] - 1s - loss: 0.2045 - val_loss: 0.1796\n",
      "Epoch 45/50\n",
      "54000/54000 [==============================] - 1s - loss: 0.2044 - val_loss: 0.1819\n",
      "Epoch 46/50\n",
      "54000/54000 [==============================] - 2s - loss: 0.2028 - val_loss: 0.1854\n",
      "Epoch 47/50\n",
      "54000/54000 [==============================] - 1s - loss: 0.1973 - val_loss: 0.1823\n",
      "Epoch 48/50\n",
      "54000/54000 [==============================] - 1s - loss: 0.1985 - val_loss: 0.1677\n",
      "Epoch 49/50\n",
      "54000/54000 [==============================] - 1s - loss: 0.2023 - val_loss: 0.1701\n",
      "Epoch 50/50\n",
      "54000/54000 [==============================] - 1s - loss: 0.2015 - val_loss: 0.1806\n"
     ]
    },
    {
     "data": {
      "text/plain": [
       "<keras.callbacks.History at 0x7ff1c872be10>"
      ]
     },
     "execution_count": 47,
     "metadata": {},
     "output_type": "execute_result"
    }
   ],
   "source": [
    "from keras.models import Sequential\n",
    "from keras.layers.core import Dense\n",
    "from keras.optimizers import SGD\n",
    "\n",
    "np.random.seed(1) \n",
    "\n",
    "model = Sequential()\n",
    "model.add(Dense(input_dim=X_train.shape[1], \n",
    "                output_dim=50, \n",
    "                init='uniform', \n",
    "                activation='tanh'))\n",
    "\n",
    "model.add(Dense(input_dim=50, \n",
    "                output_dim=50, \n",
    "                init='uniform', \n",
    "                activation='tanh'))\n",
    "\n",
    "model.add(Dense(input_dim=50, \n",
    "                output_dim=y_train_ohe.shape[1], \n",
    "                init='uniform', \n",
    "                activation='softmax'))\n",
    "\n",
    "sgd = SGD(lr=0.001, decay=1e-7, momentum=.9)\n",
    "model.compile(loss='categorical_crossentropy', optimizer=sgd)\n",
    "\n",
    "model.fit(X_train, y_train_ohe, \n",
    "          nb_epoch=50, \n",
    "          batch_size=300, \n",
    "          verbose=1, \n",
    "          validation_split=0.1)"
   ]
  },
  {
   "cell_type": "code",
   "execution_count": 48,
   "metadata": {
    "collapsed": false
   },
   "outputs": [
    {
     "name": "stdout",
     "output_type": "stream",
     "text": [
      "[3 0 4]\n"
     ]
    }
   ],
   "source": [
    "y_train_pred = model.predict_classes(X_train, verbose=0)\n",
    "print(y_train_pred[:3])"
   ]
  },
  {
   "cell_type": "code",
   "execution_count": 49,
   "metadata": {
    "collapsed": false
   },
   "outputs": [
    {
     "name": "stdout",
     "output_type": "stream",
     "text": [
      "Training accuracy: 94.07%\n"
     ]
    }
   ],
   "source": [
    "train_acc = np.sum(y_train == y_train_pred, axis=0) / X_train.shape[0]\n",
    "print('Training accuracy: %.2f%%' % (train_acc * 100))"
   ]
  },
  {
   "cell_type": "code",
   "execution_count": 50,
   "metadata": {
    "collapsed": false
   },
   "outputs": [
    {
     "name": "stdout",
     "output_type": "stream",
     "text": [
      "Test accuracy: 93.59%\n"
     ]
    }
   ],
   "source": [
    "y_test_pred = model.predict_classes(X_test, verbose=0)\n",
    "test_acc = np.sum(y_test == y_test_pred, axis=0) / X_test.shape[0]\n",
    "print('Test accuracy: %.2f%%' % (test_acc * 100))"
   ]
  }
 ],
 "metadata": {
  "kernelspec": {
   "display_name": "Python [conda root]",
   "language": "python",
   "name": "conda-root-py"
  },
  "language_info": {
   "codemirror_mode": {
    "name": "ipython",
    "version": 3
   },
   "file_extension": ".py",
   "mimetype": "text/x-python",
   "name": "python",
   "nbconvert_exporter": "python",
   "pygments_lexer": "ipython3",
   "version": "3.5.2"
  }
 },
 "nbformat": 4,
 "nbformat_minor": 1
}
